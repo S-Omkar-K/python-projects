{
 "cells": [
  {
   "cell_type": "code",
   "execution_count": 1,
   "id": "62ec82a2",
   "metadata": {},
   "outputs": [
    {
     "name": "stderr",
     "output_type": "stream",
     "text": [
      "C:\\Users\\saiom\\anaconda3\\lib\\site-packages\\statsmodels\\tsa\\base\\tsa_model.py:7: FutureWarning: pandas.Int64Index is deprecated and will be removed from pandas in a future version. Use pandas.Index with the appropriate dtype instead.\n",
      "  from pandas import (to_datetime, Int64Index, DatetimeIndex, Period,\n",
      "C:\\Users\\saiom\\anaconda3\\lib\\site-packages\\statsmodels\\tsa\\base\\tsa_model.py:7: FutureWarning: pandas.Float64Index is deprecated and will be removed from pandas in a future version. Use pandas.Index with the appropriate dtype instead.\n",
      "  from pandas import (to_datetime, Int64Index, DatetimeIndex, Period,\n"
     ]
    }
   ],
   "source": [
    "import pandas as pd\n",
    "import matplotlib.pyplot as plt\n",
    "import statsmodels.api as sm\n",
    "import numpy as np\n",
    "import seaborn as sns\n",
    "import os \n",
    "from bokeh.plotting import figure,show\n",
    "from bokeh.layouts import gridplot\n",
    "from ipywidgets import interact,interact_manual"
   ]
  },
  {
   "cell_type": "code",
   "execution_count": 2,
   "id": "140cf4da",
   "metadata": {},
   "outputs": [
    {
     "data": {
      "text/html": [
       "\n",
       "    <div class=\"bk-root\">\n",
       "        <a href=\"https://bokeh.org\" target=\"_blank\" class=\"bk-logo bk-logo-small bk-logo-notebook\"></a>\n",
       "        <span id=\"1002\">Loading BokehJS ...</span>\n",
       "    </div>"
      ]
     },
     "metadata": {},
     "output_type": "display_data"
    },
    {
     "data": {
      "application/javascript": [
       "\n",
       "(function(root) {\n",
       "  function now() {\n",
       "    return new Date();\n",
       "  }\n",
       "\n",
       "  const force = true;\n",
       "\n",
       "  if (typeof root._bokeh_onload_callbacks === \"undefined\" || force === true) {\n",
       "    root._bokeh_onload_callbacks = [];\n",
       "    root._bokeh_is_loading = undefined;\n",
       "  }\n",
       "\n",
       "  const JS_MIME_TYPE = 'application/javascript';\n",
       "  const HTML_MIME_TYPE = 'text/html';\n",
       "  const EXEC_MIME_TYPE = 'application/vnd.bokehjs_exec.v0+json';\n",
       "  const CLASS_NAME = 'output_bokeh rendered_html';\n",
       "\n",
       "  /**\n",
       "   * Render data to the DOM node\n",
       "   */\n",
       "  function render(props, node) {\n",
       "    const script = document.createElement(\"script\");\n",
       "    node.appendChild(script);\n",
       "  }\n",
       "\n",
       "  /**\n",
       "   * Handle when an output is cleared or removed\n",
       "   */\n",
       "  function handleClearOutput(event, handle) {\n",
       "    const cell = handle.cell;\n",
       "\n",
       "    const id = cell.output_area._bokeh_element_id;\n",
       "    const server_id = cell.output_area._bokeh_server_id;\n",
       "    // Clean up Bokeh references\n",
       "    if (id != null && id in Bokeh.index) {\n",
       "      Bokeh.index[id].model.document.clear();\n",
       "      delete Bokeh.index[id];\n",
       "    }\n",
       "\n",
       "    if (server_id !== undefined) {\n",
       "      // Clean up Bokeh references\n",
       "      const cmd_clean = \"from bokeh.io.state import curstate; print(curstate().uuid_to_server['\" + server_id + \"'].get_sessions()[0].document.roots[0]._id)\";\n",
       "      cell.notebook.kernel.execute(cmd_clean, {\n",
       "        iopub: {\n",
       "          output: function(msg) {\n",
       "            const id = msg.content.text.trim();\n",
       "            if (id in Bokeh.index) {\n",
       "              Bokeh.index[id].model.document.clear();\n",
       "              delete Bokeh.index[id];\n",
       "            }\n",
       "          }\n",
       "        }\n",
       "      });\n",
       "      // Destroy server and session\n",
       "      const cmd_destroy = \"import bokeh.io.notebook as ion; ion.destroy_server('\" + server_id + \"')\";\n",
       "      cell.notebook.kernel.execute(cmd_destroy);\n",
       "    }\n",
       "  }\n",
       "\n",
       "  /**\n",
       "   * Handle when a new output is added\n",
       "   */\n",
       "  function handleAddOutput(event, handle) {\n",
       "    const output_area = handle.output_area;\n",
       "    const output = handle.output;\n",
       "\n",
       "    // limit handleAddOutput to display_data with EXEC_MIME_TYPE content only\n",
       "    if ((output.output_type != \"display_data\") || (!Object.prototype.hasOwnProperty.call(output.data, EXEC_MIME_TYPE))) {\n",
       "      return\n",
       "    }\n",
       "\n",
       "    const toinsert = output_area.element.find(\".\" + CLASS_NAME.split(' ')[0]);\n",
       "\n",
       "    if (output.metadata[EXEC_MIME_TYPE][\"id\"] !== undefined) {\n",
       "      toinsert[toinsert.length - 1].firstChild.textContent = output.data[JS_MIME_TYPE];\n",
       "      // store reference to embed id on output_area\n",
       "      output_area._bokeh_element_id = output.metadata[EXEC_MIME_TYPE][\"id\"];\n",
       "    }\n",
       "    if (output.metadata[EXEC_MIME_TYPE][\"server_id\"] !== undefined) {\n",
       "      const bk_div = document.createElement(\"div\");\n",
       "      bk_div.innerHTML = output.data[HTML_MIME_TYPE];\n",
       "      const script_attrs = bk_div.children[0].attributes;\n",
       "      for (let i = 0; i < script_attrs.length; i++) {\n",
       "        toinsert[toinsert.length - 1].firstChild.setAttribute(script_attrs[i].name, script_attrs[i].value);\n",
       "        toinsert[toinsert.length - 1].firstChild.textContent = bk_div.children[0].textContent\n",
       "      }\n",
       "      // store reference to server id on output_area\n",
       "      output_area._bokeh_server_id = output.metadata[EXEC_MIME_TYPE][\"server_id\"];\n",
       "    }\n",
       "  }\n",
       "\n",
       "  function register_renderer(events, OutputArea) {\n",
       "\n",
       "    function append_mime(data, metadata, element) {\n",
       "      // create a DOM node to render to\n",
       "      const toinsert = this.create_output_subarea(\n",
       "        metadata,\n",
       "        CLASS_NAME,\n",
       "        EXEC_MIME_TYPE\n",
       "      );\n",
       "      this.keyboard_manager.register_events(toinsert);\n",
       "      // Render to node\n",
       "      const props = {data: data, metadata: metadata[EXEC_MIME_TYPE]};\n",
       "      render(props, toinsert[toinsert.length - 1]);\n",
       "      element.append(toinsert);\n",
       "      return toinsert\n",
       "    }\n",
       "\n",
       "    /* Handle when an output is cleared or removed */\n",
       "    events.on('clear_output.CodeCell', handleClearOutput);\n",
       "    events.on('delete.Cell', handleClearOutput);\n",
       "\n",
       "    /* Handle when a new output is added */\n",
       "    events.on('output_added.OutputArea', handleAddOutput);\n",
       "\n",
       "    /**\n",
       "     * Register the mime type and append_mime function with output_area\n",
       "     */\n",
       "    OutputArea.prototype.register_mime_type(EXEC_MIME_TYPE, append_mime, {\n",
       "      /* Is output safe? */\n",
       "      safe: true,\n",
       "      /* Index of renderer in `output_area.display_order` */\n",
       "      index: 0\n",
       "    });\n",
       "  }\n",
       "\n",
       "  // register the mime type if in Jupyter Notebook environment and previously unregistered\n",
       "  if (root.Jupyter !== undefined) {\n",
       "    const events = require('base/js/events');\n",
       "    const OutputArea = require('notebook/js/outputarea').OutputArea;\n",
       "\n",
       "    if (OutputArea.prototype.mime_types().indexOf(EXEC_MIME_TYPE) == -1) {\n",
       "      register_renderer(events, OutputArea);\n",
       "    }\n",
       "  }\n",
       "\n",
       "  \n",
       "  if (typeof (root._bokeh_timeout) === \"undefined\" || force === true) {\n",
       "    root._bokeh_timeout = Date.now() + 5000;\n",
       "    root._bokeh_failed_load = false;\n",
       "  }\n",
       "\n",
       "  const NB_LOAD_WARNING = {'data': {'text/html':\n",
       "     \"<div style='background-color: #fdd'>\\n\"+\n",
       "     \"<p>\\n\"+\n",
       "     \"BokehJS does not appear to have successfully loaded. If loading BokehJS from CDN, this \\n\"+\n",
       "     \"may be due to a slow or bad network connection. Possible fixes:\\n\"+\n",
       "     \"</p>\\n\"+\n",
       "     \"<ul>\\n\"+\n",
       "     \"<li>re-rerun `output_notebook()` to attempt to load from CDN again, or</li>\\n\"+\n",
       "     \"<li>use INLINE resources instead, as so:</li>\\n\"+\n",
       "     \"</ul>\\n\"+\n",
       "     \"<code>\\n\"+\n",
       "     \"from bokeh.resources import INLINE\\n\"+\n",
       "     \"output_notebook(resources=INLINE)\\n\"+\n",
       "     \"</code>\\n\"+\n",
       "     \"</div>\"}};\n",
       "\n",
       "  function display_loaded() {\n",
       "    const el = document.getElementById(\"1002\");\n",
       "    if (el != null) {\n",
       "      el.textContent = \"BokehJS is loading...\";\n",
       "    }\n",
       "    if (root.Bokeh !== undefined) {\n",
       "      if (el != null) {\n",
       "        el.textContent = \"BokehJS \" + root.Bokeh.version + \" successfully loaded.\";\n",
       "      }\n",
       "    } else if (Date.now() < root._bokeh_timeout) {\n",
       "      setTimeout(display_loaded, 100)\n",
       "    }\n",
       "  }\n",
       "\n",
       "\n",
       "  function run_callbacks() {\n",
       "    try {\n",
       "      root._bokeh_onload_callbacks.forEach(function(callback) {\n",
       "        if (callback != null)\n",
       "          callback();\n",
       "      });\n",
       "    } finally {\n",
       "      delete root._bokeh_onload_callbacks\n",
       "    }\n",
       "    console.debug(\"Bokeh: all callbacks have finished\");\n",
       "  }\n",
       "\n",
       "  function load_libs(css_urls, js_urls, callback) {\n",
       "    if (css_urls == null) css_urls = [];\n",
       "    if (js_urls == null) js_urls = [];\n",
       "\n",
       "    root._bokeh_onload_callbacks.push(callback);\n",
       "    if (root._bokeh_is_loading > 0) {\n",
       "      console.debug(\"Bokeh: BokehJS is being loaded, scheduling callback at\", now());\n",
       "      return null;\n",
       "    }\n",
       "    if (js_urls == null || js_urls.length === 0) {\n",
       "      run_callbacks();\n",
       "      return null;\n",
       "    }\n",
       "    console.debug(\"Bokeh: BokehJS not loaded, scheduling load and callback at\", now());\n",
       "    root._bokeh_is_loading = css_urls.length + js_urls.length;\n",
       "\n",
       "    function on_load() {\n",
       "      root._bokeh_is_loading--;\n",
       "      if (root._bokeh_is_loading === 0) {\n",
       "        console.debug(\"Bokeh: all BokehJS libraries/stylesheets loaded\");\n",
       "        run_callbacks()\n",
       "      }\n",
       "    }\n",
       "\n",
       "    function on_error(url) {\n",
       "      console.error(\"failed to load \" + url);\n",
       "    }\n",
       "\n",
       "    for (let i = 0; i < css_urls.length; i++) {\n",
       "      const url = css_urls[i];\n",
       "      const element = document.createElement(\"link\");\n",
       "      element.onload = on_load;\n",
       "      element.onerror = on_error.bind(null, url);\n",
       "      element.rel = \"stylesheet\";\n",
       "      element.type = \"text/css\";\n",
       "      element.href = url;\n",
       "      console.debug(\"Bokeh: injecting link tag for BokehJS stylesheet: \", url);\n",
       "      document.body.appendChild(element);\n",
       "    }\n",
       "\n",
       "    for (let i = 0; i < js_urls.length; i++) {\n",
       "      const url = js_urls[i];\n",
       "      const element = document.createElement('script');\n",
       "      element.onload = on_load;\n",
       "      element.onerror = on_error.bind(null, url);\n",
       "      element.async = false;\n",
       "      element.src = url;\n",
       "      console.debug(\"Bokeh: injecting script tag for BokehJS library: \", url);\n",
       "      document.head.appendChild(element);\n",
       "    }\n",
       "  };\n",
       "\n",
       "  function inject_raw_css(css) {\n",
       "    const element = document.createElement(\"style\");\n",
       "    element.appendChild(document.createTextNode(css));\n",
       "    document.body.appendChild(element);\n",
       "  }\n",
       "\n",
       "  \n",
       "  const js_urls = [\"https://cdn.bokeh.org/bokeh/release/bokeh-2.4.1.min.js\", \"https://cdn.bokeh.org/bokeh/release/bokeh-gl-2.4.1.min.js\", \"https://cdn.bokeh.org/bokeh/release/bokeh-widgets-2.4.1.min.js\", \"https://cdn.bokeh.org/bokeh/release/bokeh-tables-2.4.1.min.js\", \"https://cdn.bokeh.org/bokeh/release/bokeh-mathjax-2.4.1.min.js\"];\n",
       "  const css_urls = [];\n",
       "  \n",
       "\n",
       "  const inline_js = [\n",
       "    function(Bokeh) {\n",
       "      Bokeh.set_log_level(\"info\");\n",
       "    },\n",
       "    function(Bokeh) {\n",
       "    \n",
       "    \n",
       "    }\n",
       "  ];\n",
       "\n",
       "  function run_inline_js() {\n",
       "    \n",
       "    if (root.Bokeh !== undefined || force === true) {\n",
       "      \n",
       "    for (let i = 0; i < inline_js.length; i++) {\n",
       "      inline_js[i].call(root, root.Bokeh);\n",
       "    }\n",
       "    if (force === true) {\n",
       "        display_loaded();\n",
       "      }} else if (Date.now() < root._bokeh_timeout) {\n",
       "      setTimeout(run_inline_js, 100);\n",
       "    } else if (!root._bokeh_failed_load) {\n",
       "      console.log(\"Bokeh: BokehJS failed to load within specified timeout.\");\n",
       "      root._bokeh_failed_load = true;\n",
       "    } else if (force !== true) {\n",
       "      const cell = $(document.getElementById(\"1002\")).parents('.cell').data().cell;\n",
       "      cell.output_area.append_execute_result(NB_LOAD_WARNING)\n",
       "    }\n",
       "\n",
       "  }\n",
       "\n",
       "  if (root._bokeh_is_loading === 0) {\n",
       "    console.debug(\"Bokeh: BokehJS loaded, going straight to plotting\");\n",
       "    run_inline_js();\n",
       "  } else {\n",
       "    load_libs(css_urls, js_urls, function() {\n",
       "      console.debug(\"Bokeh: BokehJS plotting callback run at\", now());\n",
       "      run_inline_js();\n",
       "    });\n",
       "  }\n",
       "}(window));"
      ],
      "application/vnd.bokehjs_load.v0+json": "\n(function(root) {\n  function now() {\n    return new Date();\n  }\n\n  const force = true;\n\n  if (typeof root._bokeh_onload_callbacks === \"undefined\" || force === true) {\n    root._bokeh_onload_callbacks = [];\n    root._bokeh_is_loading = undefined;\n  }\n\n  \n\n  \n  if (typeof (root._bokeh_timeout) === \"undefined\" || force === true) {\n    root._bokeh_timeout = Date.now() + 5000;\n    root._bokeh_failed_load = false;\n  }\n\n  const NB_LOAD_WARNING = {'data': {'text/html':\n     \"<div style='background-color: #fdd'>\\n\"+\n     \"<p>\\n\"+\n     \"BokehJS does not appear to have successfully loaded. If loading BokehJS from CDN, this \\n\"+\n     \"may be due to a slow or bad network connection. Possible fixes:\\n\"+\n     \"</p>\\n\"+\n     \"<ul>\\n\"+\n     \"<li>re-rerun `output_notebook()` to attempt to load from CDN again, or</li>\\n\"+\n     \"<li>use INLINE resources instead, as so:</li>\\n\"+\n     \"</ul>\\n\"+\n     \"<code>\\n\"+\n     \"from bokeh.resources import INLINE\\n\"+\n     \"output_notebook(resources=INLINE)\\n\"+\n     \"</code>\\n\"+\n     \"</div>\"}};\n\n  function display_loaded() {\n    const el = document.getElementById(\"1002\");\n    if (el != null) {\n      el.textContent = \"BokehJS is loading...\";\n    }\n    if (root.Bokeh !== undefined) {\n      if (el != null) {\n        el.textContent = \"BokehJS \" + root.Bokeh.version + \" successfully loaded.\";\n      }\n    } else if (Date.now() < root._bokeh_timeout) {\n      setTimeout(display_loaded, 100)\n    }\n  }\n\n\n  function run_callbacks() {\n    try {\n      root._bokeh_onload_callbacks.forEach(function(callback) {\n        if (callback != null)\n          callback();\n      });\n    } finally {\n      delete root._bokeh_onload_callbacks\n    }\n    console.debug(\"Bokeh: all callbacks have finished\");\n  }\n\n  function load_libs(css_urls, js_urls, callback) {\n    if (css_urls == null) css_urls = [];\n    if (js_urls == null) js_urls = [];\n\n    root._bokeh_onload_callbacks.push(callback);\n    if (root._bokeh_is_loading > 0) {\n      console.debug(\"Bokeh: BokehJS is being loaded, scheduling callback at\", now());\n      return null;\n    }\n    if (js_urls == null || js_urls.length === 0) {\n      run_callbacks();\n      return null;\n    }\n    console.debug(\"Bokeh: BokehJS not loaded, scheduling load and callback at\", now());\n    root._bokeh_is_loading = css_urls.length + js_urls.length;\n\n    function on_load() {\n      root._bokeh_is_loading--;\n      if (root._bokeh_is_loading === 0) {\n        console.debug(\"Bokeh: all BokehJS libraries/stylesheets loaded\");\n        run_callbacks()\n      }\n    }\n\n    function on_error(url) {\n      console.error(\"failed to load \" + url);\n    }\n\n    for (let i = 0; i < css_urls.length; i++) {\n      const url = css_urls[i];\n      const element = document.createElement(\"link\");\n      element.onload = on_load;\n      element.onerror = on_error.bind(null, url);\n      element.rel = \"stylesheet\";\n      element.type = \"text/css\";\n      element.href = url;\n      console.debug(\"Bokeh: injecting link tag for BokehJS stylesheet: \", url);\n      document.body.appendChild(element);\n    }\n\n    for (let i = 0; i < js_urls.length; i++) {\n      const url = js_urls[i];\n      const element = document.createElement('script');\n      element.onload = on_load;\n      element.onerror = on_error.bind(null, url);\n      element.async = false;\n      element.src = url;\n      console.debug(\"Bokeh: injecting script tag for BokehJS library: \", url);\n      document.head.appendChild(element);\n    }\n  };\n\n  function inject_raw_css(css) {\n    const element = document.createElement(\"style\");\n    element.appendChild(document.createTextNode(css));\n    document.body.appendChild(element);\n  }\n\n  \n  const js_urls = [\"https://cdn.bokeh.org/bokeh/release/bokeh-2.4.1.min.js\", \"https://cdn.bokeh.org/bokeh/release/bokeh-gl-2.4.1.min.js\", \"https://cdn.bokeh.org/bokeh/release/bokeh-widgets-2.4.1.min.js\", \"https://cdn.bokeh.org/bokeh/release/bokeh-tables-2.4.1.min.js\", \"https://cdn.bokeh.org/bokeh/release/bokeh-mathjax-2.4.1.min.js\"];\n  const css_urls = [];\n  \n\n  const inline_js = [\n    function(Bokeh) {\n      Bokeh.set_log_level(\"info\");\n    },\n    function(Bokeh) {\n    \n    \n    }\n  ];\n\n  function run_inline_js() {\n    \n    if (root.Bokeh !== undefined || force === true) {\n      \n    for (let i = 0; i < inline_js.length; i++) {\n      inline_js[i].call(root, root.Bokeh);\n    }\n    if (force === true) {\n        display_loaded();\n      }} else if (Date.now() < root._bokeh_timeout) {\n      setTimeout(run_inline_js, 100);\n    } else if (!root._bokeh_failed_load) {\n      console.log(\"Bokeh: BokehJS failed to load within specified timeout.\");\n      root._bokeh_failed_load = true;\n    } else if (force !== true) {\n      const cell = $(document.getElementById(\"1002\")).parents('.cell').data().cell;\n      cell.output_area.append_execute_result(NB_LOAD_WARNING)\n    }\n\n  }\n\n  if (root._bokeh_is_loading === 0) {\n    console.debug(\"Bokeh: BokehJS loaded, going straight to plotting\");\n    run_inline_js();\n  } else {\n    load_libs(css_urls, js_urls, function() {\n      console.debug(\"Bokeh: BokehJS plotting callback run at\", now());\n      run_inline_js();\n    });\n  }\n}(window));"
     },
     "metadata": {},
     "output_type": "display_data"
    }
   ],
   "source": [
    "from bokeh.io import output_notebook\n",
    "output_notebook()"
   ]
  },
  {
   "cell_type": "markdown",
   "id": "4f30fd74",
   "metadata": {},
   "source": [
    "<b>Project Objective<b/>\n",
    "\n",
    "\n",
    "Covid-19 pandemic will be remembered as one of the events that has devastating effects on humankind. The pandemic started and rapidly spread in the early 2020s, whose effect is still seen till today in some countries, has caused destruction of many stable economies which resulted in immense jobloss. In this project, we aim to understand how it affected the enrollment rates in colleges in top populated states in the U.S. To understand this question, we use the education data facilitated by the Urban Education Institute. "
   ]
  },
  {
   "cell_type": "code",
   "execution_count": 3,
   "id": "66591af7",
   "metadata": {},
   "outputs": [],
   "source": [
    "#path = r'E:/Autumn22/Python\\\\PS2\\\\EducationDataPortal_10.22.2022_all_files\\\\EducationDataPortal_10.22.2022_level_of_study.csv'\n",
    "#data_enrollment_path = os.path.join(path, 'EducationDataPortal_10.22.2022_level_of_study.csv')\n",
    "data_enrollment = pd.read_csv('E:\\Autumn22\\Python\\PS2\\EducationDataPortal_10.22.2022_all_files\\EducationDataPortal_10.22.2022_all_files\\EducationDataPortal_10.22.2022_level_of_study.csv')\n",
    "data_college = pd.read_csv('E:\\Autumn22\\Python\\PS2\\EducationDataPortal_10.22.2022_all_files\\EducationDataPortal_10.22.2022_all_files\\EducationDataPortal_10.22.2022_College.csv')\n"
   ]
  },
  {
   "cell_type": "code",
   "execution_count": 4,
   "id": "a083d334",
   "metadata": {},
   "outputs": [],
   "source": [
    "data = pd.merge(data_enrollment, data_college, on = ['year', 'inst_name', 'state_abbr'])"
   ]
  },
  {
   "cell_type": "code",
   "execution_count": 5,
   "id": "96eb0c8b",
   "metadata": {},
   "outputs": [],
   "source": [
    "data = data.drop(['unitid_x', 'unitid_y', 'institution_level', 'inst_name'], axis = 1)"
   ]
  },
  {
   "cell_type": "code",
   "execution_count": 6,
   "id": "115c0782",
   "metadata": {},
   "outputs": [],
   "source": [
    "grouped_data = data.groupby(['state_abbr','year']).sum()\n",
    "\n",
    "grouped_data = grouped_data.reset_index()\n",
    "\n",
    "grouped_data = pd.pivot(grouped_data, index = ['state_abbr' ], columns = 'year', values = 'enrollment_fall')\n",
    "\n",
    "grouped_data = grouped_data.reset_index()\n",
    "\n",
    "#grouped_data\n",
    "\n"
   ]
  },
  {
   "cell_type": "code",
   "execution_count": 7,
   "id": "267743f4",
   "metadata": {},
   "outputs": [
    {
     "data": {
      "text/plain": [
       "<AxesSubplot:title={'center':'Change in college enrollment in US states from 2019 to 2020'}, xlabel='States', ylabel='Enrollment in Millions'>"
      ]
     },
     "execution_count": 7,
     "metadata": {},
     "output_type": "execute_result"
    },
    {
     "data": {
      "image/png": "[encoded data removed]",
      "text/plain": [
       "<Figure size 432x288 with 1 Axes>"
      ]
     },
     "metadata": {
      "needs_background": "light"
     },
     "output_type": "display_data"
    }
   ],
   "source": [
    "\n",
    "\n",
    "grouped_data.plot(x = 'state_abbr', \n",
    "                  #y = [2019, 2020], \n",
    "                  kind = 'bar',\n",
    "                  title = 'Change in college enrollment in US states from 2019 to 2020',\n",
    "                  xlabel = 'States',\n",
    "                  ylabel = 'Enrollment in Millions',\n",
    "                  yticks = np.arange(0, 1500000, 300000)\n",
    "                  )"
   ]
  },
  {
   "cell_type": "code",
   "execution_count": 8,
   "id": "6938d7e5",
   "metadata": {},
   "outputs": [],
   "source": [
    "grouped_data1 = data.groupby(['state_abbr','year']).sum()\n",
    "\n",
    "grouped_data1 = grouped_data1.reset_index()\n",
    "\n",
    "grouped_data1 = pd.pivot(grouped_data1, index = ['year'], columns = 'state_abbr', values = 'enrollment_fall')\n",
    "\n",
    "grouped_data1 = grouped_data1.reset_index()\n",
    "\n",
    "#grouped_data1"
   ]
  },
  {
   "cell_type": "code",
   "execution_count": 9,
   "id": "a2c4aa43",
   "metadata": {},
   "outputs": [
    {
     "data": {
      "text/plain": [
       "<AxesSubplot:title={'center':'Change in college enrollment in US states from 2019 to 2020'}, xlabel='States', ylabel='Enrollment in Millions'>"
      ]
     },
     "execution_count": 9,
     "metadata": {},
     "output_type": "execute_result"
    },
    {
     "data": {
      "image/png": "[encoded data removed]",
      "text/plain": [
       "<Figure size 432x288 with 1 Axes>"
      ]
     },
     "metadata": {
      "needs_background": "light"
     },
     "output_type": "display_data"
    }
   ],
   "source": [
    "\n",
    "\n",
    "grouped_data1.plot(x = 'year',  \n",
    "                  kind = 'bar',\n",
    "                  title = 'Change in college enrollment in US states from 2019 to 2020',\n",
    "                  xlabel = 'States',\n",
    "                  ylabel = 'Enrollment in Millions',\n",
    "                  yticks = np.arange(0, 1500000, 150000)\n",
    "                  )"
   ]
  },
  {
   "cell_type": "code",
   "execution_count": 10,
   "id": "4b1e77db",
   "metadata": {},
   "outputs": [],
   "source": [
    "#Bokeh"
   ]
  },
  {
   "cell_type": "code",
   "execution_count": 11,
   "id": "20084550",
   "metadata": {},
   "outputs": [
    {
     "data": {
      "text/html": [
       "<div>\n",
       "<style scoped>\n",
       "    .dataframe tbody tr th:only-of-type {\n",
       "        vertical-align: middle;\n",
       "    }\n",
       "\n",
       "    .dataframe tbody tr th {\n",
       "        vertical-align: top;\n",
       "    }\n",
       "\n",
       "    .dataframe thead th {\n",
       "        text-align: right;\n",
       "    }\n",
       "</style>\n",
       "<table border=\"1\" class=\"dataframe\">\n",
       "  <thead>\n",
       "    <tr style=\"text-align: right;\">\n",
       "      <th></th>\n",
       "      <th>year</th>\n",
       "      <th>state_abbr</th>\n",
       "      <th>level_of_study</th>\n",
       "      <th>enrollment_fall</th>\n",
       "      <th>inst_control</th>\n",
       "    </tr>\n",
       "  </thead>\n",
       "  <tbody>\n",
       "    <tr>\n",
       "      <th>0</th>\n",
       "      <td>2020</td>\n",
       "      <td>CA</td>\n",
       "      <td>Graduate</td>\n",
       "      <td>196</td>\n",
       "      <td>Private for-profit</td>\n",
       "    </tr>\n",
       "    <tr>\n",
       "      <th>1</th>\n",
       "      <td>2020</td>\n",
       "      <td>CA</td>\n",
       "      <td>Undergraduate</td>\n",
       "      <td>69</td>\n",
       "      <td>Private for-profit</td>\n",
       "    </tr>\n",
       "    <tr>\n",
       "      <th>2</th>\n",
       "      <td>2020</td>\n",
       "      <td>CA</td>\n",
       "      <td>Graduate</td>\n",
       "      <td>61</td>\n",
       "      <td>Private not-for-profit</td>\n",
       "    </tr>\n",
       "    <tr>\n",
       "      <th>3</th>\n",
       "      <td>2020</td>\n",
       "      <td>CA</td>\n",
       "      <td>Graduate</td>\n",
       "      <td>2804</td>\n",
       "      <td>Private for-profit</td>\n",
       "    </tr>\n",
       "    <tr>\n",
       "      <th>4</th>\n",
       "      <td>2020</td>\n",
       "      <td>CA</td>\n",
       "      <td>Undergraduate</td>\n",
       "      <td>6124</td>\n",
       "      <td>Private for-profit</td>\n",
       "    </tr>\n",
       "  </tbody>\n",
       "</table>\n",
       "</div>"
      ],
      "text/plain": [
       "   year state_abbr level_of_study  enrollment_fall            inst_control\n",
       "0  2020         CA       Graduate              196      Private for-profit\n",
       "1  2020         CA  Undergraduate               69      Private for-profit\n",
       "2  2020         CA       Graduate               61  Private not-for-profit\n",
       "3  2020         CA       Graduate             2804      Private for-profit\n",
       "4  2020         CA  Undergraduate             6124      Private for-profit"
      ]
     },
     "execution_count": 11,
     "metadata": {},
     "output_type": "execute_result"
    }
   ],
   "source": [
    "data.head()"
   ]
  },
  {
   "cell_type": "code",
   "execution_count": 12,
   "id": "4def64c7",
   "metadata": {},
   "outputs": [
    {
     "data": {
      "text/html": [
       "<div>\n",
       "<style scoped>\n",
       "    .dataframe tbody tr th:only-of-type {\n",
       "        vertical-align: middle;\n",
       "    }\n",
       "\n",
       "    .dataframe tbody tr th {\n",
       "        vertical-align: top;\n",
       "    }\n",
       "\n",
       "    .dataframe thead th {\n",
       "        text-align: right;\n",
       "    }\n",
       "</style>\n",
       "<table border=\"1\" class=\"dataframe\">\n",
       "  <thead>\n",
       "    <tr style=\"text-align: right;\">\n",
       "      <th></th>\n",
       "      <th></th>\n",
       "      <th>enrollment_fall</th>\n",
       "    </tr>\n",
       "    <tr>\n",
       "      <th>state_abbr</th>\n",
       "      <th>year</th>\n",
       "      <th></th>\n",
       "    </tr>\n",
       "  </thead>\n",
       "  <tbody>\n",
       "    <tr>\n",
       "      <th rowspan=\"2\" valign=\"top\">CA</th>\n",
       "      <th>2019</th>\n",
       "      <td>1472390</td>\n",
       "    </tr>\n",
       "    <tr>\n",
       "      <th>2020</th>\n",
       "      <td>1467718</td>\n",
       "    </tr>\n",
       "    <tr>\n",
       "      <th rowspan=\"2\" valign=\"top\">IL</th>\n",
       "      <th>2019</th>\n",
       "      <td>443988</td>\n",
       "    </tr>\n",
       "    <tr>\n",
       "      <th>2020</th>\n",
       "      <td>348557</td>\n",
       "    </tr>\n",
       "    <tr>\n",
       "      <th rowspan=\"2\" valign=\"top\">TX</th>\n",
       "      <th>2019</th>\n",
       "      <td>1004605</td>\n",
       "    </tr>\n",
       "    <tr>\n",
       "      <th>2020</th>\n",
       "      <td>1189577</td>\n",
       "    </tr>\n",
       "    <tr>\n",
       "      <th rowspan=\"2\" valign=\"top\">VA</th>\n",
       "      <th>2019</th>\n",
       "      <td>392940</td>\n",
       "    </tr>\n",
       "    <tr>\n",
       "      <th>2020</th>\n",
       "      <td>399259</td>\n",
       "    </tr>\n",
       "    <tr>\n",
       "      <th rowspan=\"2\" valign=\"top\">WA</th>\n",
       "      <th>2019</th>\n",
       "      <td>330437</td>\n",
       "    </tr>\n",
       "    <tr>\n",
       "      <th>2020</th>\n",
       "      <td>293688</td>\n",
       "    </tr>\n",
       "  </tbody>\n",
       "</table>\n",
       "</div>"
      ],
      "text/plain": [
       "                 enrollment_fall\n",
       "state_abbr year                 \n",
       "CA         2019          1472390\n",
       "           2020          1467718\n",
       "IL         2019           443988\n",
       "           2020           348557\n",
       "TX         2019          1004605\n",
       "           2020          1189577\n",
       "VA         2019           392940\n",
       "           2020           399259\n",
       "WA         2019           330437\n",
       "           2020           293688"
      ]
     },
     "execution_count": 12,
     "metadata": {},
     "output_type": "execute_result"
    }
   ],
   "source": [
    "bokeh_data = data.groupby(['state_abbr','year']).sum()\n",
    "\n",
    "\n",
    "bokeh_data"
   ]
  },
  {
   "cell_type": "code",
   "execution_count": 13,
   "id": "eab17e10",
   "metadata": {},
   "outputs": [
    {
     "data": {
      "text/plain": [
       "array(['CA', 'IL', 'TX', 'VA', 'WA'], dtype=object)"
      ]
     },
     "execution_count": 13,
     "metadata": {},
     "output_type": "execute_result"
    }
   ],
   "source": [
    "state_names = data['state_abbr'].unique()\n",
    "state_names"
   ]
  },
  {
   "cell_type": "code",
   "execution_count": 14,
   "id": "65b72728",
   "metadata": {},
   "outputs": [],
   "source": [
    "#from bokeh.models import Range1d\n",
    "#from bokeh.models import FactorRange \n",
    "\n",
    "#x = ['2019', '2020']\n",
    "\n",
    "def plot_enrollment(df, state):\n",
    "    plot = figure(title=state,\n",
    "                  x_axis_label='Year',\n",
    "                  y_axis_label='Enrollment in Millions',\n",
    "                  #x_range = FactorRange(*x)\n",
    "                 #y_range = Range1d(0,10000000),\n",
    "                 #margin = (0, 0, 0, 0),\n",
    "                 #title = 'Change in college enrollment for the state'\n",
    "                 )\n",
    "    data = df.loc[state]\n",
    "    plot.vbar(x= [2019, 2020] , top = data['enrollment_fall'], width = 0.5)\n",
    "    \n",
    "    #Using Line, but the data is not continuous\n",
    "    #plot.line(data.index, data['enrollment_fall'])\n",
    "\n",
    "    return plot"
   ]
  },
  {
   "cell_type": "code",
   "execution_count": 15,
   "id": "c940c638",
   "metadata": {},
   "outputs": [
    {
     "data": {
      "application/vnd.jupyter.widget-view+json": {
       "model_id": "d826b59fe5ad4f26a672b97b2e7c274b",
       "version_major": 2,
       "version_minor": 0
      },
      "text/plain": [
       "interactive(children=(Dropdown(description='state', options=('CA', 'IL', 'TX', 'VA', 'WA'), value='CA'), Outpu…"
      ]
     },
     "metadata": {},
     "output_type": "display_data"
    }
   ],
   "source": [
    "@interact(state = state_names)\n",
    "def make_plot_enrollment(state=state_names[0]):\n",
    "    plot = plot_enrollment(bokeh_data, state)\n",
    "    show(plot)"
   ]
  },
  {
   "cell_type": "markdown",
   "id": "877fbbe6",
   "metadata": {},
   "source": [
    "Is the trend same for Males and Females? Now a question arises, is this drop in college enrollment common across Males and Females? We answer this question by again using the data retrieved from the Urban education. "
   ]
  },
  {
   "cell_type": "code",
   "execution_count": 16,
   "id": "3c5d5db0",
   "metadata": {},
   "outputs": [],
   "source": [
    "data_sex = pd.read_csv('E:\\Autumn22\\Python\\PS2\\EducationDataPortal_10.22.2022_all_files_sex\\EducationDataPortal_10.22.2022_all_files\\EducationDataPortal_10.22.2022_level_of_studyRaceSex.csv')\n",
    "data_sex = data_sex[data_sex['sex'] != 'Total']\n",
    "data_sex = data_sex[data_sex['race'] == 'Total'].drop(['race', 'unitid', 'inst_name'], axis = 1)\n",
    "\n"
   ]
  },
  {
   "cell_type": "code",
   "execution_count": 17,
   "id": "5e68a806",
   "metadata": {},
   "outputs": [],
   "source": [
    "grouped_sex_data = data_sex.groupby(['state_abbr', 'year', 'sex']).sum()\n",
    "grouped_sex_data = grouped_sex_data.reset_index()"
   ]
  },
  {
   "cell_type": "code",
   "execution_count": 18,
   "id": "c0763b72",
   "metadata": {},
   "outputs": [],
   "source": [
    "#state_names_sex = data_sex['state_abbr'].unique()\n",
    "state_names1 = data_sex['state_abbr'].unique()\n",
    "sex_names = data_sex['sex'].unique()"
   ]
  },
  {
   "cell_type": "code",
   "execution_count": 19,
   "id": "f59107f7",
   "metadata": {},
   "outputs": [],
   "source": [
    "#grouped_sex_data.loc[(grouped_sex_data['state_abbr'] == 'CA') & (grouped_sex_data['sex'] == 'Female')]"
   ]
  },
  {
   "cell_type": "code",
   "execution_count": 20,
   "id": "f84c3526",
   "metadata": {},
   "outputs": [],
   "source": [
    "\n",
    "years = ['2017', '2018', '2019', '2020']\n",
    "enrollments = ['200000', '500000', '1000000']\n",
    "\n",
    "\n",
    "def plot_enrollment1(df, state,sex):\n",
    "    plot = figure(title=state + ' ' +sex,\n",
    "                  x_axis_label='Year',\n",
    "                  y_axis_label='Enrollment in Millions',\n",
    "                  \n",
    "                 #x_range = years,\n",
    "                 #margin = (0, 0, 0, 0),\n",
    "                 plot_height = 300)\n",
    "    data = df.loc[(df['state_abbr'] == state) & (df['sex'] == sex)]\n",
    "    plot.line(data['year'], data['enrollment_fall'])\n",
    "    return plot\n",
    "\n",
    "\n"
   ]
  },
  {
   "cell_type": "code",
   "execution_count": 21,
   "id": "ceebc659",
   "metadata": {},
   "outputs": [
    {
     "data": {
      "application/vnd.jupyter.widget-view+json": {
       "model_id": "49226bfdc4c041ff968256c33bda2c98",
       "version_major": 2,
       "version_minor": 0
      },
      "text/plain": [
       "interactive(children=(Dropdown(description='state', options=('CA', 'IL', 'NY', 'TX'), value='CA'), Dropdown(de…"
      ]
     },
     "metadata": {},
     "output_type": "display_data"
    }
   ],
   "source": [
    "@interact(state = state_names1, sex = sex_names)\n",
    "\n",
    "def make_plot_enrollment1(state=state_names1, sex = sex_names):\n",
    "    plot = plot_enrollment1(grouped_sex_data, state, sex)\n",
    "    show(plot)"
   ]
  },
  {
   "cell_type": "markdown",
   "id": "4116d8b0",
   "metadata": {},
   "source": [
    "<b> Summary </b>\n",
    "\n",
    "\n",
    "Covid-19 pandemic will be remembered as one of the events that has devastating effects on humankind. The pandemic started and rapidly spread in the early 2020s, whose effect is still seen till today in some countries, has caused destruction of many stable economies which resulted in immense jobloss. \n",
    "\n",
    "In this project, we aim to understand how it affected the enrollment rates in colleges in top populated states in the U.S. To understand this question, we use the education data facilitated by the Urban Education Institute. We download the data for College enrollment in top 5 populated states in the US, which results in 2 csv files. We then load the files and merge the same and drop the columns such as Institution level that are not relevant to the research question in place. We consolidate all plot paramenters under one function and then plot the trend as a bar plot to display the trend. \n",
    "\n",
    "As we can see in the graph result, where we compare the enrollments effects between 2019 and 2020 in five states, namely California, Virginia, Illinois, Texas and Washington, we see an enrollment drop in colleges in most of the states. This may be due to financial distress caused by the pandemic, this arguments may be analyzed further. To further add to the vizualisation, we plot a bokeh with interactive elements that allow the user to select the state to vizualise the trend in college enrollments. The code is easily changeable as per the data downloaded, such as with very minute changes, we can replicate the code to observe college enrollment trends across various \"races\" across the states selected.\n",
    "\n",
    "\n",
    "<b>Is the trend same for Males and Females?</b>\n",
    "\n",
    "Now a question arises, is this drop in college enrollment common across Males and Females? We answer this question by again using the data retrieved from the Urban education.  As we have multiple options and multiple variables to vizualize, namely the state and sex, we employ an interactive bokeh plot to serve our needs. Given an input, for example(Texas, Male), we would be able to visualize the trend in college enrollment for Males in Texas. We consolidate all bokeh parameters and build two functions that produces a bokeh with interactive elements such as the State name and Sex. These functions are easily changeable according to the data downloaded, such as with very minute changes, we can replicate the code to observe college enrollment trends across various \"races\" across the states selected.\n",
    "\n",
    "From what we observe, almost all states have seen a massive drop in the enrollment especially for females when compared to males. This may be due to the increase in responsibilities that Females faced due to financial distress, family responsibilities, job switching opportunities etc. This may be further analyzed to find the actual reason behind the drop. \n",
    "\n",
    "<b> Benefits of using Urban Education data </b>\n",
    "\n",
    "The Urban education data that we have used made the job easier through its structured nature and facility of downloading data as per various, multilayers of options provided. To deep dive into education and more questions related to covid effect, effect on earnings, loan repayment, the urban education data would be a right fit to answer these questions."
   ]
  },
  {
   "cell_type": "code",
   "execution_count": null,
   "id": "15e6db17",
   "metadata": {},
   "outputs": [],
   "source": []
  }
 ],
 "metadata": {
  "kernelspec": {
   "display_name": "Python 3 (ipykernel)",
   "language": "python",
   "name": "python3"
  },
  "language_info": {
   "codemirror_mode": {
    "name": "ipython",
    "version": 3
   },
   "file_extension": ".py",
   "mimetype": "text/x-python",
   "name": "python",
   "nbconvert_exporter": "python",
   "pygments_lexer": "ipython3",
   "version": "3.9.7"
  }
 },
 "nbformat": 4,
 "nbformat_minor": 5
}
