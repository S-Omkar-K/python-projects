{
 "cells": [
  {
   "cell_type": "markdown",
   "metadata": {},
   "source": [
    "## City of Chicago Bus Tracker Kafka Producer\n",
    "\n",
    "Login to the CTA portal and Create a developer API Key: \n",
    "\n",
    "https://www.transitchicago.com/developers/bustracker/"
   ]
  },
  {
   "cell_type": "code",
   "execution_count": 7,
   "metadata": {},
   "outputs": [
    {
     "name": "stdout",
     "output_type": "stream",
     "text": [
      "Collecting ctabustracker\n",
      "  Downloading ctabustracker-0.2.dev2-py2.py3-none-any.whl (5.7 kB)\n",
      "Requirement already satisfied: beautifulsoup4 in /Users/saiomkarkandukuri/anaconda3/lib/python3.10/site-packages (from ctabustracker) (4.11.1)\n",
      "Requirement already satisfied: lxml in /Users/saiomkarkandukuri/anaconda3/lib/python3.10/site-packages (from ctabustracker) (4.9.3)\n",
      "Requirement already satisfied: soupsieve>1.2 in /Users/saiomkarkandukuri/anaconda3/lib/python3.10/site-packages (from beautifulsoup4->ctabustracker) (2.3.2.post1)\n",
      "Installing collected packages: ctabustracker\n",
      "Successfully installed ctabustracker-0.2.dev2\n"
     ]
    }
   ],
   "source": [
    "#!pip install kafka-python\n",
    "#!pip install ctabustracker"
   ]
  },
  {
   "cell_type": "code",
   "execution_count": 1,
   "metadata": {
    "scrolled": true
   },
   "outputs": [],
   "source": [
    "import random \n",
    "from time import sleep\n",
    "from datetime import datetime \n",
    "from json import dumps\n",
    "from kafka import KafkaProducer, KafkaAdminClient"
   ]
  },
  {
   "cell_type": "code",
   "execution_count": 15,
   "metadata": {},
   "outputs": [],
   "source": [
    "KAFKA_TOPIC = \"bustrack\"\n",
    "KAFKA_BROKER = ['127.0.0.1:9092', '192.168.99.100:9092']\n",
    "GROUP = 'my-group'\n",
    "API_KEY='YOUR_API_KEY'"
   ]
  },
  {
   "cell_type": "markdown",
   "metadata": {},
   "source": [
    "## CTA Bus Tracker API"
   ]
  },
  {
   "cell_type": "code",
   "execution_count": 16,
   "metadata": {},
   "outputs": [],
   "source": [
    "from ctabustracker import CTABusTracker\n",
    "\n",
    "cbt = CTABusTracker('tjRNZR94w97ip25AdR68UYUvF')"
   ]
  },
  {
   "cell_type": "code",
   "execution_count": 17,
   "metadata": {},
   "outputs": [
    {
     "data": {
      "text/plain": [
       "{'1': {'id': '1', 'name': 'Bronzeville/Union Station'},\n",
       " '2': {'id': '2', 'name': 'Hyde Park Express'},\n",
       " '3': {'id': '3', 'name': 'King Drive'},\n",
       " '4': {'id': '4', 'name': 'Cottage Grove'},\n",
       " 'X4': {'id': 'X4', 'name': 'Cottage Grove Express'},\n",
       " '5': {'id': '5', 'name': 'South Shore Night Bus'},\n",
       " '6': {'id': '6', 'name': 'Jackson Park Express'},\n",
       " '7': {'id': '7', 'name': 'Harrison'},\n",
       " '8': {'id': '8', 'name': 'Halsted'},\n",
       " '8A': {'id': '8A', 'name': 'South Halsted'},\n",
       " '9': {'id': '9', 'name': 'Ashland'},\n",
       " 'X9': {'id': 'X9', 'name': 'Ashland Express'},\n",
       " '11': {'id': '11', 'name': 'Lincoln'},\n",
       " '12': {'id': '12', 'name': 'Roosevelt'},\n",
       " 'J14': {'id': 'J14', 'name': 'Jeffery Jump'},\n",
       " '15': {'id': '15', 'name': 'Jeffery Local'},\n",
       " '18': {'id': '18', 'name': '16th/18th'},\n",
       " '19': {'id': '19', 'name': 'United Center Express'},\n",
       " '20': {'id': '20', 'name': 'Madison'},\n",
       " '21': {'id': '21', 'name': 'Cermak'},\n",
       " '22': {'id': '22', 'name': 'Clark'},\n",
       " '24': {'id': '24', 'name': 'Wentworth'},\n",
       " '26': {'id': '26', 'name': 'South Shore Express'},\n",
       " '28': {'id': '28', 'name': 'Stony Island'},\n",
       " '29': {'id': '29', 'name': 'State'},\n",
       " '30': {'id': '30', 'name': 'South Chicago'},\n",
       " '31': {'id': '31', 'name': '31st'},\n",
       " '34': {'id': '34', 'name': 'South Michigan'},\n",
       " '35': {'id': '35', 'name': '31st/35th'},\n",
       " '36': {'id': '36', 'name': 'Broadway'},\n",
       " '37': {'id': '37', 'name': 'Sedgwick'},\n",
       " '39': {'id': '39', 'name': 'Pershing'},\n",
       " '43': {'id': '43', 'name': '43rd'},\n",
       " '44': {'id': '44', 'name': 'Wallace-Racine'},\n",
       " '47': {'id': '47', 'name': '47th'},\n",
       " '48': {'id': '48', 'name': 'South Damen'},\n",
       " '49': {'id': '49', 'name': 'Western'},\n",
       " '49B': {'id': '49B', 'name': 'North Western'},\n",
       " 'X49': {'id': 'X49', 'name': 'Western Express'},\n",
       " '50': {'id': '50', 'name': 'Damen'},\n",
       " '51': {'id': '51', 'name': '51st'},\n",
       " '52': {'id': '52', 'name': 'Kedzie'},\n",
       " '52A': {'id': '52A', 'name': 'South Kedzie'},\n",
       " '53': {'id': '53', 'name': 'Pulaski'},\n",
       " '53A': {'id': '53A', 'name': 'South Pulaski'},\n",
       " '54': {'id': '54', 'name': 'Cicero'},\n",
       " '54A': {'id': '54A', 'name': 'North Cicero/Skokie Blvd.'},\n",
       " '54B': {'id': '54B', 'name': 'South Cicero'},\n",
       " '55': {'id': '55', 'name': 'Garfield'},\n",
       " '55A': {'id': '55A', 'name': '55th/Austin'},\n",
       " '55N': {'id': '55N', 'name': '55th/Narragansett'},\n",
       " '56': {'id': '56', 'name': 'Milwaukee'},\n",
       " '57': {'id': '57', 'name': 'Laramie'},\n",
       " '59': {'id': '59', 'name': '59th/61st'},\n",
       " '60': {'id': '60', 'name': 'Blue Island/26th'},\n",
       " '62': {'id': '62', 'name': 'Archer'},\n",
       " '62H': {'id': '62H', 'name': 'Archer/Harlem'},\n",
       " '63': {'id': '63', 'name': '63rd'},\n",
       " '63W': {'id': '63W', 'name': 'West 63rd'},\n",
       " '65': {'id': '65', 'name': 'Grand'},\n",
       " '66': {'id': '66', 'name': 'Chicago'},\n",
       " '67': {'id': '67', 'name': '67th-69th-71st'},\n",
       " '68': {'id': '68', 'name': 'Northwest Highway'},\n",
       " '70': {'id': '70', 'name': 'Division'},\n",
       " '71': {'id': '71', 'name': '71st/South Shore'},\n",
       " '72': {'id': '72', 'name': 'North'},\n",
       " '73': {'id': '73', 'name': 'Armitage'},\n",
       " '74': {'id': '74', 'name': 'Fullerton'},\n",
       " '75': {'id': '75', 'name': '74th-75th'},\n",
       " '76': {'id': '76', 'name': 'Diversey'},\n",
       " '77': {'id': '77', 'name': 'Belmont'},\n",
       " '78': {'id': '78', 'name': 'Montrose'},\n",
       " '79': {'id': '79', 'name': '79th'},\n",
       " '80': {'id': '80', 'name': 'Irving Park'},\n",
       " '81': {'id': '81', 'name': 'Lawrence'},\n",
       " '81W': {'id': '81W', 'name': 'West Lawrence'},\n",
       " '82': {'id': '82', 'name': 'Kimball-Homan'},\n",
       " '84': {'id': '84', 'name': 'Peterson'},\n",
       " '85': {'id': '85', 'name': 'Central'},\n",
       " '85A': {'id': '85A', 'name': 'North Central'},\n",
       " '86': {'id': '86', 'name': 'Narragansett/Ridgeland'},\n",
       " '87': {'id': '87', 'name': '87th'},\n",
       " '88': {'id': '88', 'name': 'Higgins'},\n",
       " '90': {'id': '90', 'name': 'Harlem'},\n",
       " '91': {'id': '91', 'name': 'Austin'},\n",
       " '92': {'id': '92', 'name': 'Foster'},\n",
       " '93': {'id': '93', 'name': 'California/Dodge'},\n",
       " '94': {'id': '94', 'name': 'California'},\n",
       " '95': {'id': '95', 'name': '95th'},\n",
       " '96': {'id': '96', 'name': 'Lunt'},\n",
       " '97': {'id': '97', 'name': 'Skokie'},\n",
       " '100': {'id': '100', 'name': 'Jeffery Manor Express'},\n",
       " '103': {'id': '103', 'name': 'West 103rd'},\n",
       " '106': {'id': '106', 'name': 'East 103rd'},\n",
       " '108': {'id': '108', 'name': 'Halsted/95th'},\n",
       " '111': {'id': '111', 'name': '111th/King Drive'},\n",
       " '111A': {'id': '111A', 'name': 'Pullman Shuttle'},\n",
       " '112': {'id': '112', 'name': 'Vincennes/111th'},\n",
       " '115': {'id': '115', 'name': 'Pullman/115th'},\n",
       " '119': {'id': '119', 'name': 'Michigan/119th'},\n",
       " '120': {'id': '120', 'name': 'Ogilvie/Streeterville Express'},\n",
       " '121': {'id': '121', 'name': 'Union/Streeterville Express'},\n",
       " '124': {'id': '124', 'name': 'Navy Pier'},\n",
       " '125': {'id': '125', 'name': 'Water Tower Express'},\n",
       " '126': {'id': '126', 'name': 'Jackson'},\n",
       " '134': {'id': '134', 'name': 'Stockton/LaSalle Express'},\n",
       " '135': {'id': '135', 'name': 'Clarendon/LaSalle Express'},\n",
       " '136': {'id': '136', 'name': 'Sheridan/LaSalle Express'},\n",
       " '143': {'id': '143', 'name': 'Stockton/Michigan Express'},\n",
       " '146': {'id': '146', 'name': 'Inner Lake Shore/Michigan Exp.'},\n",
       " '147': {'id': '147', 'name': 'Outer DuSable Lake Shore Exp.'},\n",
       " '148': {'id': '148', 'name': 'Clarendon/Michigan Express'},\n",
       " '151': {'id': '151', 'name': 'Sheridan'},\n",
       " '152': {'id': '152', 'name': 'Addison'},\n",
       " '155': {'id': '155', 'name': 'Devon'},\n",
       " '156': {'id': '156', 'name': 'LaSalle'},\n",
       " '157': {'id': '157', 'name': 'Streeterville/Taylor'},\n",
       " '165': {'id': '165', 'name': 'West 65th'},\n",
       " '169': {'id': '169', 'name': '69th-UPS Express'},\n",
       " '171': {'id': '171', 'name': 'U. of Chicago/Hyde Park'},\n",
       " '172': {'id': '172', 'name': 'U. of Chicago/Kenwood'},\n",
       " '192': {'id': '192', 'name': 'U. of Chicago Hospitals Express'},\n",
       " '201': {'id': '201', 'name': 'Central/Ridge'},\n",
       " '206': {'id': '206', 'name': 'Evanston Circulator'}}"
      ]
     },
     "execution_count": 17,
     "metadata": {},
     "output_type": "execute_result"
    }
   ],
   "source": [
    "#get all CTA routes from the API\n",
    "cbt.get_routes()"
   ]
  },
  {
   "cell_type": "code",
   "execution_count": 18,
   "metadata": {},
   "outputs": [
    {
     "data": {
      "text/plain": [
       "{'8402': {'id': '8402',\n",
       "  'last_update': datetime.datetime(2024, 2, 8, 16, 43),\n",
       "  'latitude': '41.78759822845459',\n",
       "  'longitude': '-87.59150695800781',\n",
       "  'heading': 359,\n",
       "  'pattern_id': '14103',\n",
       "  'route_id': '172',\n",
       "  'destination': 'Hyde Park/East End',\n",
       "  'distance_into_route': 2184.0,\n",
       "  'delayed': False},\n",
       " '8491': {'id': '8491',\n",
       "  'last_update': datetime.datetime(2024, 2, 8, 16, 42),\n",
       "  'latitude': '41.80253982543945',\n",
       "  'longitude': '-87.58412170410156',\n",
       "  'heading': 273,\n",
       "  'pattern_id': '14110',\n",
       "  'route_id': '172',\n",
       "  'destination': '60th/University',\n",
       "  'distance_into_route': 48.0,\n",
       "  'delayed': False},\n",
       " '8444': {'id': '8444',\n",
       "  'last_update': datetime.datetime(2024, 2, 8, 16, 43),\n",
       "  'latitude': '41.80240013485863',\n",
       "  'longitude': '-87.59295872279576',\n",
       "  'heading': 269,\n",
       "  'pattern_id': '14110',\n",
       "  'route_id': '172',\n",
       "  'destination': '60th/University',\n",
       "  'distance_into_route': 2474.0,\n",
       "  'delayed': False}}"
      ]
     },
     "execution_count": 18,
     "metadata": {},
     "output_type": "execute_result"
    }
   ],
   "source": [
    "#select route id from user input\n",
    "route_id = input(\"Input the route you would like to track: \")\n",
    "\n",
    "#get all vehicles going to route\n",
    "response = cbt.get_route_vehicles(route_id=route_id)\n",
    "response"
   ]
  },
  {
   "cell_type": "code",
   "execution_count": 19,
   "metadata": {},
   "outputs": [],
   "source": [
    "#select a vehicle id from the route\n",
    "vehicle_id = input(\"Input the vehicle you would like to track: \")"
   ]
  },
  {
   "cell_type": "markdown",
   "metadata": {},
   "source": [
    "## Kafka Producer\n"
   ]
  },
  {
   "cell_type": "code",
   "execution_count": 20,
   "metadata": {},
   "outputs": [],
   "source": [
    "import datetime\n",
    "def dateconverter(o):\n",
    "    if isinstance(o, datetime.datetime):\n",
    "        return o.isoformat()"
   ]
  },
  {
   "cell_type": "code",
   "execution_count": 22,
   "metadata": {},
   "outputs": [],
   "source": [
    "producer = KafkaProducer(bootstrap_servers= KAFKA_BROKER,\n",
    "                         value_serializer=lambda x: \n",
    "                         dumps(x, default=dateconverter).encode('utf-8'))"
   ]
  },
  {
   "cell_type": "code",
   "execution_count": 23,
   "metadata": {},
   "outputs": [
    {
     "name": "stdout",
     "output_type": "stream",
     "text": [
      "Bus Status:  [{'id': '8491', 'last_update': datetime.datetime(2024, 2, 8, 16, 43, 23), 'latitude': '41.80253982543945', 'longitude': '-87.58412170410156', 'heading': 273, 'pattern_id': '14110', 'route_id': '172', 'destination': '60th/University', 'distance_into_route': 48.0, 'delayed': False}]\n",
      "Bus Status:  [{'id': '8491', 'last_update': datetime.datetime(2024, 2, 8, 16, 43, 53), 'latitude': '41.80253982543945', 'longitude': '-87.58412170410156', 'heading': 273, 'pattern_id': '14110', 'route_id': '172', 'destination': '60th/University', 'distance_into_route': 48.0, 'delayed': False}]\n",
      "Bus Status:  [{'id': '8491', 'last_update': datetime.datetime(2024, 2, 8, 16, 43, 53), 'latitude': '41.80253982543945', 'longitude': '-87.58412170410156', 'heading': 273, 'pattern_id': '14110', 'route_id': '172', 'destination': '60th/University', 'distance_into_route': 48.0, 'delayed': False}]\n",
      "Bus Status:  [{'id': '8491', 'last_update': datetime.datetime(2024, 2, 8, 16, 44, 23), 'latitude': '41.80253982543945', 'longitude': '-87.58412170410156', 'heading': 273, 'pattern_id': '14110', 'route_id': '172', 'destination': '60th/University', 'distance_into_route': 48.0, 'delayed': False}]\n",
      "Bus Status:  [{'id': '8491', 'last_update': datetime.datetime(2024, 2, 8, 16, 44, 23), 'latitude': '41.80253982543945', 'longitude': '-87.58412170410156', 'heading': 273, 'pattern_id': '14110', 'route_id': '172', 'destination': '60th/University', 'distance_into_route': 48.0, 'delayed': False}]\n",
      "Bus Status:  [{'id': '8491', 'last_update': datetime.datetime(2024, 2, 8, 16, 44, 53), 'latitude': '41.80253982543945', 'longitude': '-87.58412170410156', 'heading': 273, 'pattern_id': '14110', 'route_id': '172', 'destination': '60th/University', 'distance_into_route': 48.0, 'delayed': False}]\n",
      "Bus Status:  [{'id': '8491', 'last_update': datetime.datetime(2024, 2, 8, 16, 45, 23), 'latitude': '41.80253982543945', 'longitude': '-87.58412170410156', 'heading': 273, 'pattern_id': '14110', 'route_id': '172', 'destination': '60th/University', 'distance_into_route': 48.0, 'delayed': False}]\n",
      "Bus Status:  [{'id': '8491', 'last_update': datetime.datetime(2024, 2, 8, 16, 45, 23), 'latitude': '41.80253982543945', 'longitude': '-87.58412170410156', 'heading': 273, 'pattern_id': '14110', 'route_id': '172', 'destination': '60th/University', 'distance_into_route': 48.0, 'delayed': False}]\n"
     ]
    },
    {
     "ename": "KeyboardInterrupt",
     "evalue": "",
     "output_type": "error",
     "traceback": [
      "\u001b[0;31m---------------------------------------------------------------------------\u001b[0m",
      "\u001b[0;31mKeyboardInterrupt\u001b[0m                         Traceback (most recent call last)",
      "Cell \u001b[0;32mIn[23], line 6\u001b[0m\n\u001b[1;32m      4\u001b[0m     \u001b[39mprint\u001b[39m(\u001b[39m\"\u001b[39m\u001b[39mBus Status: \u001b[39m\u001b[39m\"\u001b[39m, response)\n\u001b[1;32m      5\u001b[0m     producer\u001b[39m.\u001b[39msend(KAFKA_TOPIC, value\u001b[39m=\u001b[39mresponse)\n\u001b[0;32m----> 6\u001b[0m     sleep(random\u001b[39m.\u001b[39;49mrandint(\u001b[39m10\u001b[39;49m,\u001b[39m20\u001b[39;49m))\n\u001b[1;32m      7\u001b[0m producer\u001b[39m.\u001b[39mclose()\n",
      "\u001b[0;31mKeyboardInterrupt\u001b[0m: "
     ]
    }
   ],
   "source": [
    "#call the webservice once every 10-20 seconds\n",
    "for e in range(200):\n",
    "    response = cbt.get_vehicles(vehicle_ids=[vehicle_id])\n",
    "    print(\"Bus Status: \", response)\n",
    "    producer.send(KAFKA_TOPIC, value=response)\n",
    "    sleep(random.randint(10,20))\n",
    "producer.close()"
   ]
  },
  {
   "cell_type": "code",
   "execution_count": null,
   "metadata": {},
   "outputs": [],
   "source": []
  }
 ],
 "metadata": {
  "kernelspec": {
   "display_name": "Python 3",
   "language": "python",
   "name": "python3"
  },
  "language_info": {
   "codemirror_mode": {
    "name": "ipython",
    "version": 3
   },
   "file_extension": ".py",
   "mimetype": "text/x-python",
   "name": "python",
   "nbconvert_exporter": "python",
   "pygments_lexer": "ipython3",
   "version": "3.10.9"
  }
 },
 "nbformat": 4,
 "nbformat_minor": 2
}
